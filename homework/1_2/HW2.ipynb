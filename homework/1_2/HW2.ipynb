{
 "cells": [
  {
   "cell_type": "markdown",
   "id": "850f2702-b86e-4897-a584-7f0491cb2718",
   "metadata": {},
   "source": [
    "# Домашнее задание №2"
   ]
  },
  {
   "cell_type": "code",
   "execution_count": 64,
   "id": "9ce73e00-b8ab-45d5-a266-81c4e26df21e",
   "metadata": {},
   "outputs": [],
   "source": [
    "import numpy as np\n",
    "from Bio import SeqIO\n",
    "from Bio.Align import substitution_matrices, PairwiseAligner\n",
    "# from Bio import pairwise2"
   ]
  },
  {
   "cell_type": "code",
   "execution_count": 66,
   "id": "3a218f49-d92c-4309-a852-0e2ee432c8b4",
   "metadata": {},
   "outputs": [],
   "source": [
    "substitution_matrix = substitution_matrices.load('BLOSUM62')"
   ]
  },
  {
   "cell_type": "code",
   "execution_count": 67,
   "id": "e6701751-605f-4d53-90ff-6df64be0daf5",
   "metadata": {},
   "outputs": [],
   "source": [
    "def needleman_wunsch(seq1, seq2, substitution_matrix, gap):\n",
    "    n = len(seq1)\n",
    "    m = len(seq2)\n",
    "    score_matrix = np.zeros((n + 1, m + 1))\n",
    "    score_matrix[:, 0] = [gap * i for i in range(n+1)]\n",
    "    score_matrix[0, :] = [gap * i for i in range(m + 1)]\n",
    "\n",
    "    for i in range(1, n + 1):\n",
    "        for j in range(1, m + 1):\n",
    "            subst = substitution_matrix[seq1[i - 1]][seq2[j - 1]]\n",
    "            score_matrix[i, j] = max(\n",
    "                score_matrix[i - 1, j - 1] + subst,\n",
    "                score_matrix[i - 1, j] + gap,\n",
    "                score_matrix[i, j - 1] + gap\n",
    "            )\n",
    "    res_1 = ''\n",
    "    res_2 = ''\n",
    "    while n > 0 or m > 0:\n",
    "        if n > 0 and m > 0 and (\n",
    "                score_matrix[n, m] == score_matrix[n - 1, m - 1] +\n",
    "                substitution_matrix[seq1[n - 1]][seq2[m - 1]]\n",
    "        ):\n",
    "            res_1 = seq1[n - 1] + res_1\n",
    "            res_2 = seq2[m - 1] + res_2\n",
    "            n -= 1\n",
    "            m -= 1\n",
    "        elif n > 0 and score_matrix[n, m] == score_matrix[n - 1, m] + gap:\n",
    "            res_1 = seq1[n - 1] + res_1\n",
    "            res_2 = '-' + res_2\n",
    "            n -= 1\n",
    "        else:\n",
    "            res_1 = '-' + res_1\n",
    "            res_2 = seq2[m - 1] + res_2\n",
    "            m -= 1\n",
    "    print(res_1)\n",
    "    for i in range(len(res_1)):\n",
    "        if res_1[i] == res_2[i]:\n",
    "            print(\"|\", end=\"\")\n",
    "        elif res_1[i] == \"-\" or res_2[i] == \"-\":\n",
    "            print(\" \", end=\"\")\n",
    "        else:\n",
    "            print(\".\", end=\"\")\n",
    "    print(\"\")\n",
    "    print(res_2)\n",
    "    return res_1, res_2, score_matrix[-1, -1]"
   ]
  },
  {
   "cell_type": "code",
   "execution_count": 118,
   "id": "c52ce12a-79a9-482b-b235-ffc5413fdcfb",
   "metadata": {},
   "outputs": [],
   "source": [
    "def affine_gap(seq1, seq2, substitution_matrix, alpha, beta):\n",
    "    n = len(seq1)\n",
    "    m = len(seq2)\n",
    "    score_matrix = np.zeros((n + 1, m + 1))\n",
    "    score_matrix[1:, 0] = [alpha + beta * (i-1) for i in range(1, n + 1)]\n",
    "    score_matrix[0, 1:] = [alpha + beta * (i-1) for i in range(1, m + 1)]\n",
    "    seq_1_gap = np.zeros((n + 1, m + 1))\n",
    "    seq_2_gap = np.zeros((n + 1, m + 1))\n",
    "    seq_1_gap[1:, 0] = [alpha + beta*(i-1) for i in range(1, n + 1)]\n",
    "    seq_2_gap[0, 1:] = [alpha + beta*(i-1) for i in range(1, m + 1)]\n",
    "\n",
    "    for i in range(1, n + 1):\n",
    "        for j in range(1, m + 1):\n",
    "            seq_1_gap[i, j] = max(\n",
    "                score_matrix[i,j-1] + alpha,\n",
    "                seq_1_gap[i,j-1] + beta\n",
    "            )\n",
    "            seq_2_gap[i, j] = max(\n",
    "                score_matrix[i-1, j] + alpha,\n",
    "                seq_2_gap[i-1, j] + beta\n",
    "            )\n",
    "            subst = substitution_matrix[seq1[i - 1]][seq2[j - 1]]\n",
    "            score_matrix[i, j] = max(\n",
    "                score_matrix[i - 1, j - 1] + subst,\n",
    "                seq_1_gap[i, j],\n",
    "                seq_2_gap[i, j]\n",
    "                # seq_1_gap[i-1, j-1] + subst,\n",
    "                # seq_2_gap[i-1, j-1] + subst\n",
    "            )\n",
    "    res_1 = ''\n",
    "    res_2 = ''\n",
    "    while n > 0 or m > 0:\n",
    "        if n > 0 and m > 0 and (\n",
    "                score_matrix[n, m] == score_matrix[n - 1, m - 1] +\n",
    "                substitution_matrix[seq1[n - 1]][seq2[m - 1]]\n",
    "        ):\n",
    "            res_1 = seq1[n - 1] + res_1\n",
    "            res_2 = seq2[m - 1] + res_2\n",
    "            n -= 1\n",
    "            m -= 1\n",
    "        elif n > 0 and score_matrix[n, m] == seq_1_gap[n, m]:\n",
    "            res_1 = seq1[n - 1] + res_1\n",
    "            res_2 = '-' + res_2\n",
    "            n -= 1\n",
    "        else:\n",
    "            res_1 = '-' + res_1\n",
    "            res_2 = seq2[m - 1] + res_2\n",
    "            m -= 1\n",
    "\n",
    "    print(res_1)\n",
    "    for i in range(len(res_1)):\n",
    "        if res_1[i] == res_2[i]:\n",
    "            print(\"|\", end=\"\")\n",
    "        elif res_1[i] == \"-\" or res_2[i] == \"-\":\n",
    "            print(\" \", end=\"\")\n",
    "        else:\n",
    "            print(\".\", end=\"\")\n",
    "    print(\"\")\n",
    "    print(res_2)\n",
    "    # print(score_matrix)\n",
    "    # print(seq_1_gap)\n",
    "    # print(seq_2_gap)\n",
    "    return res_1, res_2, score_matrix[-1, -1]"
   ]
  },
  {
   "cell_type": "markdown",
   "id": "06632314-7e32-4d4e-95d0-5fed507a3683",
   "metadata": {},
   "source": [
    "### Test and compare to bio python alligner"
   ]
  },
  {
   "cell_type": "code",
   "execution_count": 69,
   "id": "761a9ec6-170c-4a5a-90db-a0f6c95f5589",
   "metadata": {},
   "outputs": [],
   "source": [
    "f8_path = \"data/f8.fasta\"\n",
    "gattaca_path = \"data/gattaca.fasta\"\n",
    "f8_seq = []\n",
    "f8 = SeqIO.parse(f8_path, \"fasta\")\n",
    "for record in f8.records:\n",
    "    f8_seq.append(str(record.seq))\n",
    "\n",
    "gattaca = SeqIO.parse(gattaca_path, \"fasta\")\n",
    "gattaca_seq = []\n",
    "for record in gattaca.records:\n",
    "    gattaca_seq.append(str(record.seq))"
   ]
  },
  {
   "cell_type": "code",
   "execution_count": 70,
   "id": "37ab1922-ff23-4028-b708-0c87fba3e2ec",
   "metadata": {},
   "outputs": [],
   "source": [
    "nw_aligner = PairwiseAligner()\n",
    "nw_aligner.substitution_matrix = substitution_matrix\n",
    "nw_aligner.gap_score = -5"
   ]
  },
  {
   "cell_type": "code",
   "execution_count": 92,
   "id": "552e1889-d735-4fa3-83ee-3f1e2f102c41",
   "metadata": {},
   "outputs": [
    {
     "name": "stdout",
     "output_type": "stream",
     "text": [
      "Score: 128.0\n",
      "target            0 AAGTGCTTGGGGCGGCGAGCATGGC----- 25\n",
      "                  0 |||||||||||||||||||||||||----- 30\n",
      "query             0 AAGTGCTTGGGGCGGCGAGCATGGCGGCAG 30\n",
      "\n"
     ]
    }
   ],
   "source": [
    "nw_bio_res = nw_aligner.align(f8_seq[0][:25], f8_seq[1][:30])\n",
    "for res in nw_bio_res:\n",
    "    print(\"Score:\", res.score)\n",
    "    print(res)\n",
    "    break"
   ]
  },
  {
   "cell_type": "code",
   "execution_count": 91,
   "id": "32b2c8b3-3acb-493d-9fb4-a63fb766cd18",
   "metadata": {},
   "outputs": [
    {
     "name": "stdout",
     "output_type": "stream",
     "text": [
      "AAGTGCTTGGGGCGGCGAGCAT---GGC--\n",
      "||||||||||||||||||||||   |||  \n",
      "AAGTGCTTGGGGCGGCGAGCATGGCGGCAG\n"
     ]
    },
    {
     "data": {
      "text/plain": [
       "128.0"
      ]
     },
     "execution_count": 91,
     "metadata": {},
     "output_type": "execute_result"
    }
   ],
   "source": [
    "nw_my_res = needleman_wunsch(f8_seq[0][:25], f8_seq[1][:30], substitution_matrix, -5)\n",
    "nw_my_res[2]"
   ]
  },
  {
   "cell_type": "code",
   "execution_count": 97,
   "id": "5d0d29f0-d1c9-4078-8b9d-d9e3f0345414",
   "metadata": {},
   "outputs": [],
   "source": [
    "affine_aligner = PairwiseAligner()\n",
    "affine_aligner.substitution_matrix = substitution_matrix\n",
    "affine_aligner.open_gap_score = -2\n",
    "affine_aligner.extend_gap_score = -1"
   ]
  },
  {
   "cell_type": "code",
   "execution_count": 114,
   "id": "991ff8cc-2a37-4d46-bc67-5a5d50d9b836",
   "metadata": {},
   "outputs": [],
   "source": [
    "affine_bio_res = affine_aligner.align(gattaca_seq[0], gattaca_seq[1])"
   ]
  },
  {
   "cell_type": "code",
   "execution_count": 115,
   "id": "c4a0ca87-619e-4068-9e1f-52db86b6e7c8",
   "metadata": {},
   "outputs": [
    {
     "name": "stdout",
     "output_type": "stream",
     "text": [
      "Score: 16.0\n",
      "target            0 GATTACA 7\n",
      "                  0 .||||.| 7\n",
      "query             0 CATTAGA 7\n",
      "\n"
     ]
    }
   ],
   "source": [
    "for res in affine_bio_res:\n",
    "    print(\"Score:\", res.score)\n",
    "    print(res)\n",
    "    break"
   ]
  },
  {
   "cell_type": "code",
   "execution_count": 119,
   "id": "076f0a52-c3aa-4e7e-aaff-72ff83c96d85",
   "metadata": {},
   "outputs": [
    {
     "name": "stdout",
     "output_type": "stream",
     "text": [
      "GATTACA\n",
      ".||||.|\n",
      "CATTAGA\n"
     ]
    },
    {
     "data": {
      "text/plain": [
       "16.0"
      ]
     },
     "execution_count": 119,
     "metadata": {},
     "output_type": "execute_result"
    }
   ],
   "source": [
    "affine_my_res = affine_gap(gattaca_seq[0], gattaca_seq[1], substitution_matrix, alpha=-2, beta=-1)\n",
    "affine_my_res[2]"
   ]
  },
  {
   "cell_type": "markdown",
   "id": "3f4b6550-dcc1-4a02-bf8e-e321c560e232",
   "metadata": {},
   "source": [
    "## Теоритическая часть"
   ]
  },
  {
   "cell_type": "markdown",
   "id": "8506b9e4-169e-458f-b4b9-fe15743157ef",
   "metadata": {},
   "source": [
    "Выведите рекуррентную формулу количества всех возможных \n",
    "выравниваний последовательностей длины *n* и *m* пользуясь \n",
    "разбиением всех выравниваний на непересекающиеся \n",
    "блоки. (1.5 балл)  "
   ]
  },
  {
   "cell_type": "markdown",
   "id": "53554d54-d976-4e17-aa65-6584ee0c63fe",
   "metadata": {},
   "source": [
    "Рассмотрим 3 случая, окончания выравнивания последовательностей:\n",
    "- соотносим последние 2 буквы последовательности, тогда нам осталось выровнять последовательности n-1 и m-1\n",
    "- соотносим одну последнюю букву первой последовательности и гэп, тогда нам осталось выровнять последовательности n-1 и m\n",
    "- соотносим одну последнюю букву второй последовательности и гэп, тогда нам осталось выровнять последовательности n и m-1\n",
    "\n",
    "Итого:\n",
    "\n",
    "Align(n,m) = Align(n-1,m-1) + Align(n-1,m) + Align(n,m-1)"
   ]
  },
  {
   "cell_type": "markdown",
   "id": "7bf46c34-cd89-47c0-a0a7-ef616977c28a",
   "metadata": {},
   "source": [
    "Получите точную формулу, основываясь на начальные условия и \n",
    "рекуррентную формулу. (1.5 балл)  \n"
   ]
  },
  {
   "cell_type": "markdown",
   "id": "87e3fdf0-6505-439f-a374-f400a3e25f94",
   "metadata": {},
   "source": [
    "Начальные условия:\n",
    "- Align(0, 0) = 1 последовательности пусты\n",
    "- Align(n, 0) = 1 вторая последовательность пуста\n",
    "- Align(0, m) = 1 первая последовательность пуста\n",
    "\n",
    "$Align(n,m)=\\sum\\limits_{k=0}^{min(n,m)}2^k \\binom{m}{k}\\binom{n}{k}$"
   ]
  },
  {
   "cell_type": "code",
   "execution_count": 147,
   "id": "59b3b122-d581-498d-8ef8-4e93ea4294b0",
   "metadata": {},
   "outputs": [],
   "source": [
    "import math\n",
    "def calc_align(n,m):\n",
    "    memo = dict()\n",
    "    def recur(n,m):\n",
    "        if n < m:\n",
    "            n, m = m, n\n",
    "        if n == 0 or m == 0:\n",
    "            return 1\n",
    "        if res := memo.get((n,m)):\n",
    "            return res\n",
    "        align = recur(n-1,m-1)+recur(n-1,m)+recur(n, m-1)\n",
    "        memo[(n,m)] = align\n",
    "        return align\n",
    "    return recur(n,m)"
   ]
  },
  {
   "cell_type": "code",
   "execution_count": 144,
   "id": "d37c7235-4859-43da-8a50-1d59300df799",
   "metadata": {},
   "outputs": [
    {
     "name": "stdout",
     "output_type": "stream",
     "text": [
      "11.5 s ± 486 ms per loop (mean ± std. dev. of 7 runs, 1 loop each)\n"
     ]
    }
   ],
   "source": [
    "%%timeit\n",
    "calc_align(2500,2000)"
   ]
  },
  {
   "cell_type": "markdown",
   "id": "78f4a913-014d-4504-8ce5-dbb0effee7d6",
   "metadata": {},
   "source": [
    "Воспользуйтесь приближением Стирлинга чтобы получить \n",
    "приближенную формулу количества выравниваний. (1 балл)"
   ]
  },
  {
   "cell_type": "markdown",
   "id": "acd51ad8-ccdd-4f31-804e-bb1d5945d2c8",
   "metadata": {},
   "source": [
    "$2^k \\frac{n! m!}{k! k! (n - k)! (m - k)!} \\approx \\frac{2^{-1 + k} k^{-1 - 2 k} m^{1/2 + m} (-k + m)^{-1/2 + k - m} n^{1/2 + n} (-k + n)^{-1/2 + k - n}}{\\pi} \\text{ for } (k \\to \\infty \\text{ and } m \\to \\infty \\text{ and } -k + m \\to \\infty \\text{ and } n \\to \\infty \\text{ and } -k + n \\to \\infty)\n",
    "$"
   ]
  },
  {
   "cell_type": "markdown",
   "id": "96a742ac-93dd-4ce4-bf9e-af67fa51cde9",
   "metadata": {},
   "source": []
  }
 ],
 "metadata": {
  "kernelspec": {
   "display_name": "Python 3 (ipykernel)",
   "language": "python",
   "name": "python3"
  },
  "language_info": {
   "codemirror_mode": {
    "name": "ipython",
    "version": 3
   },
   "file_extension": ".py",
   "mimetype": "text/x-python",
   "name": "python",
   "nbconvert_exporter": "python",
   "pygments_lexer": "ipython3",
   "version": "3.10.13"
  }
 },
 "nbformat": 4,
 "nbformat_minor": 5
}
