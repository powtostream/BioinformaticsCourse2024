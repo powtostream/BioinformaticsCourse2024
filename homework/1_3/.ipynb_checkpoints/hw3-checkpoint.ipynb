{
 "cells": [
  {
   "cell_type": "code",
   "execution_count": 1,
   "id": "490e1f2e-b929-496d-adc7-245a048a70ac",
   "metadata": {},
   "outputs": [],
   "source": [
    "import numpy as np\n",
    "from collections import defaultdict"
   ]
  },
  {
   "cell_type": "code",
   "execution_count": 2,
   "id": "89732af3-e4d7-45a7-bdf9-c7c168c296c7",
   "metadata": {},
   "outputs": [],
   "source": [
    "def levenshtein_dist(str_a, str_b, match, mismatch, delete, insert):\n",
    "    # assume str_a is shorter, swap them if not\n",
    "    # if len(str_a) > len(str_b):\n",
    "    #     str_a, str_b = str_b, str_a\n",
    "\n",
    "    # create a list with length of the shortest string and fill it with seq\n",
    "    # from 0 to length\n",
    "    dp_line = [i*delete for i in range(len(str_a)+1)]\n",
    "\n",
    "    # outer loop over the longest string\n",
    "    for i in range(1, len(str_b)+1):\n",
    "        # create current value as we need to compare 3 elements,\n",
    "        # 2 of them are in the same line in dp_line list.\n",
    "        # Remaining is in the cur_val, for the beginning of the string\n",
    "        # it equals the insert\n",
    "        cur_val = i*insert\n",
    "        for j in range(1, len(str_a)+1):\n",
    "\n",
    "            # if elements of the strings are the same set param to 0, else 1\n",
    "            if str_a[j - 1] == str_b[i - 1]:\n",
    "                param = match\n",
    "            else:\n",
    "                param = mismatch\n",
    "\n",
    "            # choose the maximum and assign it to new_val\n",
    "            new_val = max(\n",
    "                dp_line[j] + insert,\n",
    "                cur_val + delete,\n",
    "                dp_line[j-1] + param\n",
    "            )\n",
    "\n",
    "            # we can update the previous element in dp_line as we don't\n",
    "            # need it anymore for next calculations\n",
    "            dp_line[j-1] = cur_val\n",
    "            # update cur_val\n",
    "            cur_val = new_val\n",
    "\n",
    "        # finally, after inner loop update the last element of dp_line\n",
    "        dp_line[-1] = cur_val\n",
    "\n",
    "    return np.array(dp_line)\n",
    "\n",
    "calls = defaultdict(list)\n",
    "\n",
    "def call_rec(str_a, str_b, match, mismatch, delete, insert, lvl=0):\n",
    "    calls[lvl].append((str_a, str_b))\n",
    "    print(str_a, str_b)\n",
    "    if len(str_b) <= 1:\n",
    "        return\n",
    "    div_ind = len(str_a)//2\n",
    "    a_left = str_a[:div_ind]\n",
    "    a_right = str_a[div_ind:]\n",
    "    left = levenshtein_dist(\n",
    "        str_b, a_left,  match, mismatch, delete, insert)\n",
    "    right = levenshtein_dist(\n",
    "        str_b[::-1], a_right[::-1], match, mismatch, delete, insert)\n",
    "    best_b_div = np.argmax((left+right[::-1]))\n",
    "    b_left = str_b[:best_b_div]\n",
    "    b_right = str_b[best_b_div:]\n",
    "    call_rec(a_left, b_left, match, mismatch, delete, insert, lvl+1)\n",
    "    call_rec(a_right, b_right, match, mismatch, delete, insert, lvl+1)"
   ]
  },
  {
   "cell_type": "code",
   "execution_count": 3,
   "id": "256e05d5-32bf-4e7c-b5e5-1cc28d0a6cf4",
   "metadata": {},
   "outputs": [
    {
     "name": "stdout",
     "output_type": "stream",
     "text": [
      "AGTACGCA TATGC\n",
      "AGTA TA\n",
      "AG \n",
      "TA TA\n",
      "T T\n",
      "A A\n",
      "CGCA TGC\n",
      "CG TG\n",
      "C T\n",
      "G G\n",
      "CA C\n"
     ]
    }
   ],
   "source": [
    "a = \"AGTACGCA\"\n",
    "b = \"TATGC\"\n",
    "delete = -2\n",
    "insert = -2\n",
    "match = 2\n",
    "mismatch = -1\n",
    "call_rec(a, b, match, mismatch, delete, insert)"
   ]
  },
  {
   "cell_type": "code",
   "execution_count": null,
   "id": "7deb3c01-a6b3-4a31-94d5-a07c51188605",
   "metadata": {},
   "outputs": [],
   "source": []
  }
 ],
 "metadata": {
  "kernelspec": {
   "display_name": "Python 3 (ipykernel)",
   "language": "python",
   "name": "python3"
  },
  "language_info": {
   "codemirror_mode": {
    "name": "ipython",
    "version": 3
   },
   "file_extension": ".py",
   "mimetype": "text/x-python",
   "name": "python",
   "nbconvert_exporter": "python",
   "pygments_lexer": "ipython3",
   "version": "3.10.13"
  }
 },
 "nbformat": 4,
 "nbformat_minor": 5
}
